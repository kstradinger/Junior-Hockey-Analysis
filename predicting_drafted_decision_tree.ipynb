{
 "cells": [
  {
   "cell_type": "markdown",
   "metadata": {},
   "source": [
    "# Predicting a players likelihood of being drafted based on Juniors Statistics\n",
    "\n",
    "Using Decision trees and random forest classifiers we are attempting to predict whether or not a given player will be drafted to by an NHL teams.\n",
    "### Pre-analysis Prediction\n",
    "I expect the results to be less accurate at predicting a drafted players likeliehood of making it to the NHL. Due to the fact the some players will play long careers in the Juniors only to never get drafted while others might only play half a season and get drafted and moved into professional leagues faster.\n"
   ]
  }
 ],
 "metadata": {
  "kernelspec": {
   "display_name": "Python 3",
   "language": "python",
   "name": "python3"
  },
  "language_info": {
   "codemirror_mode": {
    "name": "ipython",
    "version": 3
   },
   "file_extension": ".py",
   "mimetype": "text/x-python",
   "name": "python",
   "nbconvert_exporter": "python",
   "pygments_lexer": "ipython3",
   "version": "3.7.3"
  }
 },
 "nbformat": 4,
 "nbformat_minor": 2
}
