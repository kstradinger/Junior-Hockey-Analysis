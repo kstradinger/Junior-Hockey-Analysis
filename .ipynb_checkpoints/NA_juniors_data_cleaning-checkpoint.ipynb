{
 "cells": [
  {
   "cell_type": "code",
   "execution_count": 1,
   "metadata": {},
   "outputs": [],
   "source": [
    " %matplotlib notebook"
   ]
  },
  {
   "cell_type": "code",
   "execution_count": 2,
   "metadata": {},
   "outputs": [],
   "source": [
    "#Dependencies\n",
    "import matplotlib.pyplot as plt\n",
    "import numpy as np\n",
    "import pandas as pd\n",
    "import os"
   ]
  },
  {
   "cell_type": "code",
   "execution_count": 3,
   "metadata": {},
   "outputs": [
    {
     "data": {
      "text/html": [
       "<div>\n",
       "<style scoped>\n",
       "    .dataframe tbody tr th:only-of-type {\n",
       "        vertical-align: middle;\n",
       "    }\n",
       "\n",
       "    .dataframe tbody tr th {\n",
       "        vertical-align: top;\n",
       "    }\n",
       "\n",
       "    .dataframe thead th {\n",
       "        text-align: right;\n",
       "    }\n",
       "</style>\n",
       "<table border=\"1\" class=\"dataframe\">\n",
       "  <thead>\n",
       "    <tr style=\"text-align: right;\">\n",
       "      <th></th>\n",
       "      <th>LEAGUE</th>\n",
       "      <th>PLAYER_ID</th>\n",
       "      <th>POSITION</th>\n",
       "      <th>SEASON</th>\n",
       "      <th>AGE_SEPT_15</th>\n",
       "      <th>GP</th>\n",
       "      <th>G</th>\n",
       "      <th>A</th>\n",
       "      <th>TP</th>\n",
       "      <th>PPG</th>\n",
       "      <th>...</th>\n",
       "      <th>SEASON_&gt;20GP</th>\n",
       "      <th>CUM_GP</th>\n",
       "      <th>ONLY_1_SEASON</th>\n",
       "      <th>MIN_3_SEASONS</th>\n",
       "      <th>DOB</th>\n",
       "      <th>DY_STATUS</th>\n",
       "      <th>SHOOTS</th>\n",
       "      <th>DRAFTED</th>\n",
       "      <th>NHL_PPG</th>\n",
       "      <th>NHL_GP</th>\n",
       "    </tr>\n",
       "  </thead>\n",
       "  <tbody>\n",
       "    <tr>\n",
       "      <th>0</th>\n",
       "      <td>WHL</td>\n",
       "      <td>100056/tye-hand</td>\n",
       "      <td>D</td>\n",
       "      <td>2013</td>\n",
       "      <td>18.252778</td>\n",
       "      <td>31</td>\n",
       "      <td>0</td>\n",
       "      <td>2</td>\n",
       "      <td>2</td>\n",
       "      <td>0.060000</td>\n",
       "      <td>...</td>\n",
       "      <td>1</td>\n",
       "      <td>31</td>\n",
       "      <td>1</td>\n",
       "      <td>0</td>\n",
       "      <td>1995-06-14</td>\n",
       "      <td>DY</td>\n",
       "      <td>L</td>\n",
       "      <td>No</td>\n",
       "      <td>0.0</td>\n",
       "      <td>0</td>\n",
       "    </tr>\n",
       "    <tr>\n",
       "      <th>1</th>\n",
       "      <td>OHL</td>\n",
       "      <td>100141/sean-thompson</td>\n",
       "      <td>F</td>\n",
       "      <td>2002</td>\n",
       "      <td>18.625000</td>\n",
       "      <td>38</td>\n",
       "      <td>0</td>\n",
       "      <td>4</td>\n",
       "      <td>4</td>\n",
       "      <td>0.110000</td>\n",
       "      <td>...</td>\n",
       "      <td>1</td>\n",
       "      <td>38</td>\n",
       "      <td>0</td>\n",
       "      <td>1</td>\n",
       "      <td>1984-01-31</td>\n",
       "      <td>DY</td>\n",
       "      <td>L</td>\n",
       "      <td>No</td>\n",
       "      <td>0.0</td>\n",
       "      <td>0</td>\n",
       "    </tr>\n",
       "    <tr>\n",
       "      <th>2</th>\n",
       "      <td>OHL</td>\n",
       "      <td>100141/sean-thompson</td>\n",
       "      <td>F</td>\n",
       "      <td>2003</td>\n",
       "      <td>19.625000</td>\n",
       "      <td>61</td>\n",
       "      <td>6</td>\n",
       "      <td>5</td>\n",
       "      <td>11</td>\n",
       "      <td>0.180328</td>\n",
       "      <td>...</td>\n",
       "      <td>2</td>\n",
       "      <td>99</td>\n",
       "      <td>0</td>\n",
       "      <td>1</td>\n",
       "      <td>1984-01-31</td>\n",
       "      <td>DY+1</td>\n",
       "      <td>L</td>\n",
       "      <td>No</td>\n",
       "      <td>0.0</td>\n",
       "      <td>0</td>\n",
       "    </tr>\n",
       "    <tr>\n",
       "      <th>3</th>\n",
       "      <td>OHL</td>\n",
       "      <td>100141/sean-thompson</td>\n",
       "      <td>F</td>\n",
       "      <td>2004</td>\n",
       "      <td>20.625000</td>\n",
       "      <td>38</td>\n",
       "      <td>6</td>\n",
       "      <td>5</td>\n",
       "      <td>11</td>\n",
       "      <td>0.289474</td>\n",
       "      <td>...</td>\n",
       "      <td>3</td>\n",
       "      <td>137</td>\n",
       "      <td>0</td>\n",
       "      <td>1</td>\n",
       "      <td>1984-01-31</td>\n",
       "      <td>DY+2</td>\n",
       "      <td>L</td>\n",
       "      <td>No</td>\n",
       "      <td>0.0</td>\n",
       "      <td>0</td>\n",
       "    </tr>\n",
       "    <tr>\n",
       "      <th>4</th>\n",
       "      <td>USHL</td>\n",
       "      <td>100151/stanislav-dzakhov</td>\n",
       "      <td>F</td>\n",
       "      <td>2012</td>\n",
       "      <td>19.497222</td>\n",
       "      <td>44</td>\n",
       "      <td>9</td>\n",
       "      <td>5</td>\n",
       "      <td>14</td>\n",
       "      <td>0.318182</td>\n",
       "      <td>...</td>\n",
       "      <td>1</td>\n",
       "      <td>44</td>\n",
       "      <td>0</td>\n",
       "      <td>0</td>\n",
       "      <td>1993-03-16</td>\n",
       "      <td>DY+1</td>\n",
       "      <td>R</td>\n",
       "      <td>No</td>\n",
       "      <td>0.0</td>\n",
       "      <td>0</td>\n",
       "    </tr>\n",
       "  </tbody>\n",
       "</table>\n",
       "<p>5 rows × 21 columns</p>\n",
       "</div>"
      ],
      "text/plain": [
       "  LEAGUE                 PLAYER_ID POSITION  SEASON  AGE_SEPT_15  GP  G  A  \\\n",
       "0    WHL           100056/tye-hand        D    2013    18.252778  31  0  2   \n",
       "1    OHL      100141/sean-thompson        F    2002    18.625000  38  0  4   \n",
       "2    OHL      100141/sean-thompson        F    2003    19.625000  61  6  5   \n",
       "3    OHL      100141/sean-thompson        F    2004    20.625000  38  6  5   \n",
       "4   USHL  100151/stanislav-dzakhov        F    2012    19.497222  44  9  5   \n",
       "\n",
       "   TP       PPG  ...  SEASON_>20GP  CUM_GP  ONLY_1_SEASON  MIN_3_SEASONS  \\\n",
       "0   2  0.060000  ...             1      31              1              0   \n",
       "1   4  0.110000  ...             1      38              0              1   \n",
       "2  11  0.180328  ...             2      99              0              1   \n",
       "3  11  0.289474  ...             3     137              0              1   \n",
       "4  14  0.318182  ...             1      44              0              0   \n",
       "\n",
       "          DOB DY_STATUS SHOOTS DRAFTED NHL_PPG  NHL_GP  \n",
       "0  1995-06-14        DY      L      No     0.0       0  \n",
       "1  1984-01-31        DY      L      No     0.0       0  \n",
       "2  1984-01-31      DY+1      L      No     0.0       0  \n",
       "3  1984-01-31      DY+2      L      No     0.0       0  \n",
       "4  1993-03-16      DY+1      R      No     0.0       0  \n",
       "\n",
       "[5 rows x 21 columns]"
      ]
     },
     "execution_count": 3,
     "metadata": {},
     "output_type": "execute_result"
    }
   ],
   "source": [
    "#File Path\n",
    "juniors_df=pd.read_csv('na_juniors_99to19.csv')\n",
    "juniors_df.head()"
   ]
  },
  {
   "cell_type": "code",
   "execution_count": 5,
   "metadata": {},
   "outputs": [
    {
     "data": {
      "text/plain": [
       "35251"
      ]
     },
     "execution_count": 5,
     "metadata": {},
     "output_type": "execute_result"
    }
   ],
   "source": [
    "#remove duplicates\n",
    "juniors_df['PLAYER_ID'].nunique()\n",
    "juniors_df['PLAYER_ID'].count()"
   ]
  },
  {
   "cell_type": "code",
   "execution_count": 5,
   "metadata": {},
   "outputs": [],
   "source": [
    "#df for each league\n",
    "ohl_players=juniors_df[juniors_df['LEAGUE']=='OHL']\n",
    "\n",
    "whl_players=juniors_df[juniors_df['LEAGUE']=='WHL']\n",
    "\n",
    "ushl_players=juniors_df[juniors_df['LEAGUE']=='USHL']\n",
    "\n",
    "qmjhl_players=juniors_df[juniors_df['LEAGUE']=='QMJHL']\n",
    "\n",
    "\n",
    "\n",
    "#Grouby NHL\n"
   ]
  },
  {
   "cell_type": "code",
   "execution_count": 9,
   "metadata": {},
   "outputs": [
    {
     "name": "stdout",
     "output_type": "stream",
     "text": [
      "110.13349975887209\n",
      "24.366088905279284\n"
     ]
    }
   ],
   "source": [
    "avg_gp = juniors_df['CUM_GP'].mean()\n",
    "#love avg for nhl game played is certainly due to so many players having played few or no games in the lague\n",
    "avg_nhl_gp = juniors_df['NHL_GP'].mean()\n",
    "print(avg_gp)\n",
    "print(avg_nhl_gp)"
   ]
  },
  {
   "cell_type": "code",
   "execution_count": 11,
   "metadata": {},
   "outputs": [],
   "source": [
    "#what pct get draft? what pct make it to the league?\n",
    "#drop duplicates\n",
    "ohl_unique =ohl_players.drop_duplicates(keep='last', subset='PLAYER_ID')\n",
    "whl_unique= whl_players.drop_duplicates(keep='last', subset='PLAYER_ID')\n",
    "ushl_unique =ushl_players.drop_duplicates(keep='last', subset='PLAYER_ID')\n",
    "qmjhl_unique =qmjhl_players.drop_duplicates(keep='last', subset='PLAYER_ID')"
   ]
  },
  {
   "cell_type": "code",
   "execution_count": null,
   "metadata": {},
   "outputs": [],
   "source": [
    "#Pct OHL players who make the league\n",
    "labels=['Drafted', 'Undrafted']\n",
    "plt.pie(DRAFTED, labels=labels, )\n"
   ]
  },
  {
   "cell_type": "code",
   "execution_count": null,
   "metadata": {},
   "outputs": [],
   "source": [
    "#drafted only Df\n"
   ]
  }
 ],
 "metadata": {
  "kernelspec": {
   "display_name": "Python 3",
   "language": "python",
   "name": "python3"
  },
  "language_info": {
   "codemirror_mode": {
    "name": "ipython",
    "version": 3
   },
   "file_extension": ".py",
   "mimetype": "text/x-python",
   "name": "python",
   "nbconvert_exporter": "python",
   "pygments_lexer": "ipython3",
   "version": "3.7.3"
  }
 },
 "nbformat": 4,
 "nbformat_minor": 2
}
